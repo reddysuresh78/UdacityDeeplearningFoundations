{
 "cells": [
  {
   "cell_type": "markdown",
   "metadata": {
    "collapsed": true
   },
   "source": [
    "# Image Classification\n",
    "In this project, you'll classify images from the [CIFAR-10 dataset](https://www.cs.toronto.edu/~kriz/cifar.html).  The dataset consists of airplanes, dogs, cats, and other objects. You'll preprocess the images, then train a convolutional neural network on all the samples. The images need to be normalized and the labels need to be one-hot encoded.  You'll get to apply what you learned and build a convolutional, max pooling, dropout, and fully connected layers.  At the end, you'll get to see your neural network's predictions on the sample images.\n",
    "## Get the Data\n",
    "Run the following cell to download the [CIFAR-10 dataset for python](https://www.cs.toronto.edu/~kriz/cifar-10-python.tar.gz)."
   ]
  },
  {
   "cell_type": "code",
   "execution_count": 4,
   "metadata": {
    "collapsed": false
   },
   "outputs": [
    {
     "name": "stderr",
     "output_type": "stream",
     "text": [
      "CIFAR-10 Dataset: 171MB [03:32, 803KB/s]                                       \n"
     ]
    },
    {
     "name": "stdout",
     "output_type": "stream",
     "text": [
      "All files found!\n"
     ]
    }
   ],
   "source": [
    "\"\"\"\n",
    "DON'T MODIFY ANYTHING IN THIS CELL THAT IS BELOW THIS LINE\n",
    "\"\"\"\n",
    "from urllib.request import urlretrieve\n",
    "from os.path import isfile, isdir\n",
    "from tqdm import tqdm\n",
    "import problem_unittests as tests\n",
    "import tarfile\n",
    "\n",
    "cifar10_dataset_folder_path = 'cifar-10-batches-py'\n",
    "\n",
    "class DLProgress(tqdm):\n",
    "    last_block = 0\n",
    "    \n",
    "    def hook(self, block_num=1, block_size=1, total_size=None):\n",
    "        self.total = total_size\n",
    "        self.update((block_num - self.last_block) * block_size)\n",
    "        self.last_block = block_num\n",
    "\n",
    "if not isfile('cifar-10-python.tar.gz'):\n",
    "    #Intentionally commented so that this will never run by accident\n",
    "    #with DLProgress(unit='B', unit_scale=True, miniters=1, desc='CIFAR-10 Dataset') as pbar:\n",
    "        urlretrieve(\n",
    "            'https://www.cs.toronto.edu/~kriz/cifar-10-python.tar.gz',\n",
    "            'cifar-10-python.tar.gz',\n",
    "            pbar.hook)\n",
    "\n",
    "if not isdir(cifar10_dataset_folder_path):\n",
    "    with tarfile.open('cifar-10-python.tar.gz') as tar:\n",
    "        tar.extractall()\n",
    "        tar.close()\n",
    "\n",
    "\n",
    "tests.test_folder_path(cifar10_dataset_folder_path)"
   ]
  },
  {
   "cell_type": "markdown",
   "metadata": {},
   "source": [
    "## Explore the Data\n",
    "The dataset is broken into batches to prevent your machine from running out of memory.  The CIFAR-10 dataset consists of 5 batches, named `data_batch_1`, `data_batch_2`, etc.. Each batch contains the labels and images that are one of the following:\n",
    "* airplane\n",
    "* automobile\n",
    "* bird\n",
    "* cat\n",
    "* deer\n",
    "* dog\n",
    "* frog\n",
    "* horse\n",
    "* ship\n",
    "* truck\n",
    "\n",
    "Understanding a dataset is part of making predictions on the data.  Play around with the code cell below by changing the `batch_id` and `sample_id`. The `batch_id` is the id for a batch (1-5). The `sample_id` is the id for a image and label pair in the batch.\n",
    "\n",
    "Ask yourself \"What are all possible labels?\", \"What is the range of values for the image data?\", \"Are the labels in order or random?\".  Answers to questions like these will help you preprocess the data and end up with better predictions."
   ]
  },
  {
   "cell_type": "code",
   "execution_count": 19,
   "metadata": {
    "collapsed": false
   },
   "outputs": [
    {
     "name": "stdout",
     "output_type": "stream",
     "text": [
      "\n",
      "Stats of batch 2:\n",
      "Samples: 10000\n",
      "Label Counts: {0: 984, 1: 1007, 2: 1010, 3: 995, 4: 1010, 5: 988, 6: 1008, 7: 1026, 8: 987, 9: 985}\n",
      "First 20 Labels: [1, 6, 6, 8, 8, 3, 4, 6, 0, 6, 0, 3, 6, 6, 5, 4, 8, 3, 2, 6]\n",
      "\n",
      "Example of Image 4:\n",
      "Image - Min Value: 0 Max Value: 255\n",
      "Image - Shape: (32, 32, 3)\n",
      "Label - Label Id: 8 Name: ship\n"
     ]
    },
    {
     "data": {
      "image/png": "[encoded data removed]",
      "text/plain": [
       "<matplotlib.figure.Figure at 0x23381e86160>"
      ]
     },
     "metadata": {
      "image/png": {
       "height": 250,
       "width": 253
      }
     },
     "output_type": "display_data"
    }
   ],
   "source": [
    "%matplotlib inline\n",
    "%config InlineBackend.figure_format = 'retina'\n",
    "\n",
    "from urllib.request import urlretrieve\n",
    "from os.path import isfile, isdir\n",
    "from tqdm import tqdm\n",
    "import problem_unittests as tests\n",
    "import tarfile\n",
    "\n",
    "cifar10_dataset_folder_path = 'cifar-10-batches-py'\n",
    "\n",
    "import helper\n",
    "import numpy as np\n",
    "\n",
    "# Explore the dataset\n",
    "batch_id = 2\n",
    "sample_id = 4\n",
    "helper.display_stats(cifar10_dataset_folder_path, batch_id, sample_id)"
   ]
  },
  {
   "cell_type": "markdown",
   "metadata": {},
   "source": [
    "## Implement Preprocess Functions\n",
    "### Normalize\n",
    "In the cell below, implement the `normalize` function to take in image data, `x`, and return it as a normalized Numpy array. The values should be in the range of 0 to 1, inclusive.  The return object should be the same shape as `x`."
   ]
  },
  {
   "cell_type": "code",
   "execution_count": 20,
   "metadata": {
    "collapsed": false
   },
   "outputs": [
    {
     "name": "stdout",
     "output_type": "stream",
     "text": [
      "Tests Passed\n"
     ]
    }
   ],
   "source": [
    "def normalize(x):\n",
    "    \"\"\"\n",
    "    Normalize a list of sample image data in the range of 0 to 1\n",
    "    : x: List of image data.  The image shape is (32, 32, 3)\n",
    "    : return: Numpy array of normalize data\n",
    "    \"\"\"\n",
    "    n_x = np.array(x/255)  #each image byte value can be 0 to 255\n",
    "    return n_x\n",
    "\n",
    "\n",
    "\"\"\"\n",
    "DON'T MODIFY ANYTHING IN THIS CELL THAT IS BELOW THIS LINE\n",
    "\"\"\"\n",
    "tests.test_normalize(normalize)"
   ]
  },
  {
   "cell_type": "markdown",
   "metadata": {},
   "source": [
    "### One-hot encode\n",
    "Just like the previous code cell, you'll be implementing a function for preprocessing.  This time, you'll implement the `one_hot_encode` function. The input, `x`, are a list of labels.  Implement the function to return the list of labels as One-Hot encoded Numpy array.  The possible values for labels are 0 to 9. The one-hot encoding function should return the same encoding for each value between each call to `one_hot_encode`.  Make sure to save the map of encodings outside the function.\n",
    "\n",
    "Hint: Don't reinvent the wheel."
   ]
  },
  {
   "cell_type": "code",
   "execution_count": 21,
   "metadata": {
    "collapsed": false
   },
   "outputs": [
    {
     "name": "stdout",
     "output_type": "stream",
     "text": [
      "Tests Passed\n"
     ]
    }
   ],
   "source": [
    "def one_hot_encode(x):\n",
    "    \"\"\"\n",
    "    One hot encode a list of sample labels. Return a one-hot encoded vector for each label.\n",
    "    : x: List of sample Labels\n",
    "    : return: Numpy array of one-hot encoded labels\n",
    "    \"\"\"\n",
    "    ohe_x = np.eye(10)[x] \n",
    "    return ohe_x\n",
    "     \n",
    "\n",
    "\"\"\"\n",
    "DON'T MODIFY ANYTHING IN THIS CELL THAT IS BELOW THIS LINE\n",
    "\"\"\"\n",
    "tests.test_one_hot_encode(one_hot_encode)"
   ]
  },
  {
   "cell_type": "markdown",
   "metadata": {},
   "source": [
    "### Randomize Data\n",
    "As you saw from exploring the data above, the order of the samples are randomized.  It doesn't hurt to randomize it again, but you don't need to for this dataset."
   ]
  },
  {
   "cell_type": "markdown",
   "metadata": {},
   "source": [
    "## Preprocess all the data and save it\n",
    "Running the code cell below will preprocess all the CIFAR-10 data and save it to file. The code below also uses 10% of the training data for validation."
   ]
  },
  {
   "cell_type": "code",
   "execution_count": 22,
   "metadata": {
    "collapsed": false
   },
   "outputs": [],
   "source": [
    "\"\"\"\n",
    "DON'T MODIFY ANYTHING IN THIS CELL\n",
    "\"\"\"\n",
    "# Preprocess Training, Validation, and Testing Data\n",
    "helper.preprocess_and_save_data(cifar10_dataset_folder_path, normalize, one_hot_encode)"
   ]
  },
  {
   "cell_type": "markdown",
   "metadata": {},
   "source": [
    "# Check Point\n",
    "This is your first checkpoint.  If you ever decide to come back to this notebook or have to restart the notebook, you can start from here.  The preprocessed data has been saved to disk."
   ]
  },
  {
   "cell_type": "code",
   "execution_count": 23,
   "metadata": {
    "collapsed": true
   },
   "outputs": [],
   "source": [
    "\"\"\"\n",
    "DON'T MODIFY ANYTHING IN THIS CELL\n",
    "\"\"\"\n",
    "import pickle\n",
    "import problem_unittests as tests\n",
    "import helper\n",
    "\n",
    "# Load the Preprocessed Validation data\n",
    "valid_features, valid_labels = pickle.load(open('preprocess_validation.p', mode='rb'))"
   ]
  },
  {
   "cell_type": "markdown",
   "metadata": {},
   "source": [
    "## Build the network\n",
    "For the neural network, you'll build each layer into a function.  Most of the code you've seen has been outside of functions. To test your code more thoroughly, we require that you put each layer in a function.  This allows us to give you better feedback and test for simple mistakes using our unittests before you submit your project.\n",
    "\n",
    ">**Note:** If you're finding it hard to dedicate enough time for this course each week, we've provided a small shortcut to this part of the project. In the next couple of problems, you'll have the option to use classes from the [TensorFlow Layers](https://www.tensorflow.org/api_docs/python/tf/layers) or [TensorFlow Layers (contrib)](https://www.tensorflow.org/api_guides/python/contrib.layers) packages to build each layer, except the layers you build in the \"Convolutional and Max Pooling Layer\" section.  TF Layers is similar to Keras's and TFLearn's abstraction to layers, so it's easy to pickup.\n",
    "\n",
    ">However, if you would like to get the most out of this course, try to solve all the problems _without_ using anything from the TF Layers packages. You **can** still use classes from other packages that happen to have the same name as ones you find in TF Layers! For example, instead of using the TF Layers version of the `conv2d` class, [tf.layers.conv2d](https://www.tensorflow.org/api_docs/python/tf/layers/conv2d), you would want to use the TF Neural Network version of `conv2d`, [tf.nn.conv2d](https://www.tensorflow.org/api_docs/python/tf/nn/conv2d). \n",
    "\n",
    "Let's begin!\n",
    "\n",
    "### Input\n",
    "The neural network needs to read the image data, one-hot encoded labels, and dropout keep probability. Implement the following functions\n",
    "* Implement `neural_net_image_input`\n",
    " * Return a [TF Placeholder](https://www.tensorflow.org/api_docs/python/tf/placeholder)\n",
    " * Set the shape using `image_shape` with batch size set to `None`.\n",
    " * Name the TensorFlow placeholder \"x\" using the TensorFlow `name` parameter in the [TF Placeholder](https://www.tensorflow.org/api_docs/python/tf/placeholder).\n",
    "* Implement `neural_net_label_input`\n",
    " * Return a [TF Placeholder](https://www.tensorflow.org/api_docs/python/tf/placeholder)\n",
    " * Set the shape using `n_classes` with batch size set to `None`.\n",
    " * Name the TensorFlow placeholder \"y\" using the TensorFlow `name` parameter in the [TF Placeholder](https://www.tensorflow.org/api_docs/python/tf/placeholder).\n",
    "* Implement `neural_net_keep_prob_input`\n",
    " * Return a [TF Placeholder](https://www.tensorflow.org/api_docs/python/tf/placeholder) for dropout keep probability.\n",
    " * Name the TensorFlow placeholder \"keep_prob\" using the TensorFlow `name` parameter in the [TF Placeholder](https://www.tensorflow.org/api_docs/python/tf/placeholder).\n",
    "\n",
    "These names will be used at the end of the project to load your saved model.\n",
    "\n",
    "Note: `None` for shapes in TensorFlow allow for a dynamic size."
   ]
  },
  {
   "cell_type": "code",
   "execution_count": 24,
   "metadata": {
    "collapsed": false
   },
   "outputs": [
    {
     "name": "stdout",
     "output_type": "stream",
     "text": [
      "Image Input Tests Passed.\n",
      "Label Input Tests Passed.\n",
      "Keep Prob Tests Passed.\n"
     ]
    }
   ],
   "source": [
    "import tensorflow as tf\n",
    "\n",
    "def neural_net_image_input(image_shape):\n",
    "    \"\"\"\n",
    "    Return a Tensor for a batch of image input\n",
    "    : image_shape: Shape of the images\n",
    "    : return: Tensor for image input.\n",
    "    \"\"\"\n",
    "    # TODO: Implement Function\n",
    "    x = tf.placeholder(tf.float32, np.append(None, image_shape), name = \"x\")\n",
    "    return x\n",
    "\n",
    "\n",
    "def neural_net_label_input(n_classes):\n",
    "    \"\"\"\n",
    "    Return a Tensor for a batch of label input\n",
    "    : n_classes: Number of classes\n",
    "    : return: Tensor for label input.\n",
    "    \"\"\"\n",
    "    # TODO: Implement Function\n",
    "    y = tf.placeholder(tf.float32, [None, n_classes], name = \"y\")\n",
    "    return y\n",
    "\n",
    "\n",
    "def neural_net_keep_prob_input():\n",
    "    \"\"\"\n",
    "    Return a Tensor for keep probability\n",
    "    : return: Tensor for keep probability.\n",
    "    \"\"\"\n",
    "    # TODO: Implement Function\n",
    "    keep_prob = tf.placeholder(tf.float32, name = \"keep_prob\")\n",
    "    return keep_prob\n",
    "\n",
    "\n",
    "\"\"\"\n",
    "DON'T MODIFY ANYTHING IN THIS CELL THAT IS BELOW THIS LINE\n",
    "\"\"\"\n",
    "tf.reset_default_graph()\n",
    "tests.test_nn_image_inputs(neural_net_image_input)\n",
    "tests.test_nn_label_inputs(neural_net_label_input)\n",
    "tests.test_nn_keep_prob_inputs(neural_net_keep_prob_input)"
   ]
  },
  {
   "cell_type": "markdown",
   "metadata": {},
   "source": [
    "### Convolution and Max Pooling Layer\n",
    "Convolution layers have a lot of success with images. For this code cell, you should implement the function `conv2d_maxpool` to apply convolution then max pooling:\n",
    "* Create the weight and bias using `conv_ksize`, `conv_num_outputs` and the shape of `x_tensor`.\n",
    "* Apply a convolution to `x_tensor` using weight and `conv_strides`.\n",
    " * We recommend you use same padding, but you're welcome to use any padding.\n",
    "* Add bias\n",
    "* Add a nonlinear activation to the convolution.\n",
    "* Apply Max Pooling using `pool_ksize` and `pool_strides`.\n",
    " * We recommend you use same padding, but you're welcome to use any padding.\n",
    "\n",
    "**Note:** You **can't** use [TensorFlow Layers](https://www.tensorflow.org/api_docs/python/tf/layers) or [TensorFlow Layers (contrib)](https://www.tensorflow.org/api_guides/python/contrib.layers) for **this** layer, but you can still use TensorFlow's [Neural Network](https://www.tensorflow.org/api_docs/python/tf/nn) package. You may still use the shortcut option for all the **other** layers."
   ]
  },
  {
   "cell_type": "code",
   "execution_count": 25,
   "metadata": {
    "collapsed": false
   },
   "outputs": [
    {
     "name": "stdout",
     "output_type": "stream",
     "text": [
      "Tests Passed\n"
     ]
    }
   ],
   "source": [
    "def conv2d_maxpool(x_tensor, conv_num_outputs, conv_ksize, conv_strides, pool_ksize, pool_strides):\n",
    "    \"\"\"\n",
    "    Apply convolution then max pooling to x_tensor\n",
    "    :param x_tensor: TensorFlow Tensor\n",
    "    :param conv_num_outputs: Number of outputs for the convolutional layer\n",
    "    :param conv_ksize: kernal size 2-D Tuple for the convolutional layer\n",
    "    :param conv_strides: Stride 2-D Tuple for convolution\n",
    "    :param pool_ksize: kernal size 2-D Tuple for pool\n",
    "    :param pool_strides: Stride 2-D Tuple for pool\n",
    "    : return: A tensor that represents convolution and max pooling of x_tensor\n",
    "    \"\"\"\n",
    "    # TODO: Implement Function\n",
    "    input_depth = x_tensor.get_shape().as_list()[3]\n",
    "    f_w = tf.Variable(tf.truncated_normal([conv_ksize[0], conv_ksize[1], input_depth, conv_num_outputs], \n",
    "                                          mean = 0.0, stddev = 0.01, dtype = tf.float32, seed = None, name = None))    \n",
    "    f_b = tf.Variable(tf.zeros(conv_num_outputs))\n",
    "    strides = [1, conv_strides[0], conv_strides[1], 1]\n",
    "    padding = 'SAME'\n",
    "    x = tf.nn.conv2d(x_tensor, f_w, strides, padding)\n",
    "    x = tf.nn.bias_add(x, f_b)\n",
    "    x = tf.nn.relu(x)\n",
    "    p_ksize = [1, pool_ksize[0], pool_ksize[1], 1]\n",
    "    p_strides = [1, pool_strides[0], pool_strides[1], 1]\n",
    "    padding = 'SAME'\n",
    "    x = tf.nn.max_pool(x, p_ksize, p_strides, padding)\n",
    "    return x\n",
    " \n",
    "\"\"\"\n",
    "DON'T MODIFY ANYTHING IN THIS CELL THAT IS BELOW THIS LINE\n",
    "\"\"\"\n",
    "tests.test_con_pool(conv2d_maxpool)"
   ]
  },
  {
   "cell_type": "markdown",
   "metadata": {},
   "source": [
    "### Flatten Layer\n",
    "Implement the `flatten` function to change the dimension of `x_tensor` from a 4-D tensor to a 2-D tensor.  The output should be the shape (*Batch Size*, *Flattened Image Size*). Shortcut option: you can use classes from the [TensorFlow Layers](https://www.tensorflow.org/api_docs/python/tf/layers) or [TensorFlow Layers (contrib)](https://www.tensorflow.org/api_guides/python/contrib.layers) packages for this layer. For more of a challenge, only use other TensorFlow packages."
   ]
  },
  {
   "cell_type": "code",
   "execution_count": 26,
   "metadata": {
    "collapsed": false
   },
   "outputs": [
    {
     "name": "stdout",
     "output_type": "stream",
     "text": [
      "Tests Passed\n"
     ]
    }
   ],
   "source": [
    "def flatten(x_tensor):\n",
    "    \"\"\"\n",
    "    Flatten x_tensor to (Batch Size, Flattened Image Size)\n",
    "    : x_tensor: A tensor of size (Batch Size, ...), where ... are the image dimensions.\n",
    "    : return: A tensor of size (Batch Size, Flattened Image Size).\n",
    "    \"\"\"\n",
    "    # TODO: Implement Function\n",
    "    x_tensor_shape = x_tensor.get_shape()\n",
    "    num_features = x_tensor_shape[1:4].num_elements()\n",
    "    x_tensor_flat = tf.reshape(x_tensor, [-1, num_features])\n",
    "    return x_tensor_flat\n",
    "\n",
    "\n",
    "\"\"\"\n",
    "DON'T MODIFY ANYTHING IN THIS CELL THAT IS BELOW THIS LINE\n",
    "\"\"\"\n",
    "tests.test_flatten(flatten)"
   ]
  },
  {
   "cell_type": "markdown",
   "metadata": {},
   "source": [
    "### Fully-Connected Layer\n",
    "Implement the `fully_conn` function to apply a fully connected layer to `x_tensor` with the shape (*Batch Size*, *num_outputs*). Shortcut option: you can use classes from the [TensorFlow Layers](https://www.tensorflow.org/api_docs/python/tf/layers) or [TensorFlow Layers (contrib)](https://www.tensorflow.org/api_guides/python/contrib.layers) packages for this layer. For more of a challenge, only use other TensorFlow packages."
   ]
  },
  {
   "cell_type": "code",
   "execution_count": 27,
   "metadata": {
    "collapsed": false
   },
   "outputs": [
    {
     "name": "stdout",
     "output_type": "stream",
     "text": [
      "Tests Passed\n"
     ]
    }
   ],
   "source": [
    "def fully_conn(x_tensor, num_outputs):\n",
    "    \"\"\"\n",
    "    Apply a fully connected layer to x_tensor using weight and bias\n",
    "    : x_tensor: A 2-D tensor where the first dimension is batch size.\n",
    "    : num_outputs: The number of output that the new tensor should be.\n",
    "    : return: A 2-D tensor where the second dimension is num_outputs.\n",
    "    \"\"\"\n",
    "    # TODO: Implement Function\n",
    "    num_inputs = x_tensor.get_shape().as_list()[1]\n",
    "    \n",
    "    shape =  [num_inputs, num_outputs]\n",
    "    weights = tf.Variable(tf.truncated_normal(shape, stddev = 0.05))\n",
    "    biases = tf.Variable(tf.constant(0.05, shape = [num_outputs]))\n",
    "    # Xw+b  \n",
    "    x = tf.matmul(x_tensor, weights) + biases\n",
    "    #Apply relu\n",
    "    x = tf.nn.relu(x)\n",
    "    return x\n",
    "\n",
    "\n",
    "\"\"\"\n",
    "DON'T MODIFY ANYTHING IN THIS CELL THAT IS BELOW THIS LINE\n",
    "\"\"\"\n",
    "tests.test_fully_conn(fully_conn)"
   ]
  },
  {
   "cell_type": "markdown",
   "metadata": {},
   "source": [
    "### Output Layer\n",
    "Implement the `output` function to apply a fully connected layer to `x_tensor` with the shape (*Batch Size*, *num_outputs*). Shortcut option: you can use classes from the [TensorFlow Layers](https://www.tensorflow.org/api_docs/python/tf/layers) or [TensorFlow Layers (contrib)](https://www.tensorflow.org/api_guides/python/contrib.layers) packages for this layer. For more of a challenge, only use other TensorFlow packages.\n",
    "\n",
    "**Note:** Activation, softmax, or cross entropy should **not** be applied to this."
   ]
  },
  {
   "cell_type": "code",
   "execution_count": 28,
   "metadata": {
    "collapsed": false
   },
   "outputs": [
    {
     "name": "stdout",
     "output_type": "stream",
     "text": [
      "Tests Passed\n"
     ]
    }
   ],
   "source": [
    "def output(x_tensor, num_outputs):\n",
    "    \"\"\"\n",
    "    Apply a output layer to x_tensor using weight and bias\n",
    "    : x_tensor: A 2-D tensor where the first dimension is batch size.\n",
    "    : num_outputs: The number of output that the new tensor should be.\n",
    "    : return: A 2-D tensor where the second dimension is num_outputs.\n",
    "    \"\"\"\n",
    "    # TODO: Implement Function\n",
    "    num_inputs = x_tensor.get_shape().as_list()[1]\n",
    "    \n",
    "    shape =  [num_inputs, num_outputs]\n",
    "    weights = tf.Variable(tf.truncated_normal(shape, stddev = 0.05))\n",
    "    biases = tf.Variable(tf.constant(0.05, shape = [num_outputs]))\n",
    "   \n",
    "    x = tf.matmul(x_tensor, weights) + biases\n",
    "    return x\n",
    "\n",
    "\n",
    "\"\"\"\n",
    "DON'T MODIFY ANYTHING IN THIS CELL THAT IS BELOW THIS LINE\n",
    "\"\"\"\n",
    "tests.test_output(output)"
   ]
  },
  {
   "cell_type": "markdown",
   "metadata": {},
   "source": [
    "### Create Convolutional Model\n",
    "Implement the function `conv_net` to create a convolutional neural network model. The function takes in a batch of images, `x`, and outputs logits.  Use the layers you created above to create this model:\n",
    "\n",
    "* Apply 1, 2, or 3 Convolution and Max Pool layers\n",
    "* Apply a Flatten Layer\n",
    "* Apply 1, 2, or 3 Fully Connected Layers\n",
    "* Apply an Output Layer\n",
    "* Return the output\n",
    "* Apply [TensorFlow's Dropout](https://www.tensorflow.org/api_docs/python/tf/nn/dropout) to one or more layers in the model using `keep_prob`. "
   ]
  },
  {
   "cell_type": "code",
   "execution_count": 29,
   "metadata": {
    "collapsed": false
   },
   "outputs": [
    {
     "name": "stdout",
     "output_type": "stream",
     "text": [
      "Neural Network Built!\n"
     ]
    }
   ],
   "source": [
    "def conv_net(x, keep_prob):\n",
    "    \"\"\"\n",
    "    Create a convolutional neural network model\n",
    "    : x: Placeholder tensor that holds image data.\n",
    "    : keep_prob: Placeholder tensor that hold dropout keep probability.\n",
    "    : return: Tensor that represents logits\n",
    "    \"\"\"\n",
    "    # TODO: Apply 1, 2, or 3 Convolution and Max Pool layers\n",
    "    #    Play around with different number of outputs, kernel size and stride\n",
    "    # Function Definition from Above:\n",
    "    #    conv2d_maxpool(x_tensor, conv_num_outputs, conv_ksize, conv_strides, pool_ksize, pool_strides)\n",
    "    \n",
    "    #Maxpool 1\n",
    "    \n",
    "    # num_outputs\n",
    "    conv_num_outputs = 8 * 3\n",
    "    # ksize\n",
    "    conv_ksize = (5,5)\n",
    "    # strides\n",
    "    conv_strides = (1,1)\n",
    "    # ksize\n",
    "    pool_ksize = (2,2)\n",
    "    # strides\n",
    "    pool_strides = (2,2)\n",
    "    conv_max1 = conv2d_maxpool(x, conv_num_outputs, conv_ksize, conv_strides, pool_ksize, pool_strides)\n",
    "\n",
    "    #Maxpool 2\n",
    "    # num_outputs\n",
    "    conv_num_outputs = 16 * 3\n",
    "    # ksize\n",
    "    conv_ksize = (3,3)\n",
    "    # strides\n",
    "    conv_strides = (1,1)\n",
    "    # ksize\n",
    "    pool_ksize = (2,2)\n",
    "    # strides\n",
    "    pool_strides = (2,2)\n",
    "    conv_max2 = conv2d_maxpool(conv_max1, conv_num_outputs, conv_ksize, conv_strides, pool_ksize, pool_strides)\n",
    "\n",
    "    #Maxpool 3\n",
    "    # num_outputs\n",
    "    conv_num_outputs = 32 * 3\n",
    "    # ksize\n",
    "    conv_ksize = (2,2)\n",
    "    # strides\n",
    "    conv_strides = (1,1)\n",
    "    # ksize\n",
    "    pool_ksize = (2,2)\n",
    "    # strides\n",
    "    pool_strides = (2,2)\n",
    "    conv_max3 = conv2d_maxpool(conv_max2, conv_num_outputs, conv_ksize, conv_strides, pool_ksize, pool_strides)\n",
    "\n",
    "    \n",
    "    \n",
    "    # TODO: Apply a Flatten Layer\n",
    "    # Function Definition from Above:\n",
    "    #   flatten(x_tensor)\n",
    "    flatten_data = flatten(conv_max3)\n",
    "    \n",
    "\n",
    "    # TODO: Apply 1, 2, or 3 Fully Connected Layers\n",
    "    #    Play around with different number of outputs\n",
    "    # Function Definition from Above:\n",
    "    #   fully_conn(x_tensor, num_outputs)\n",
    "    f_conn1 = fully_conn(flatten_data, 1024)\n",
    "    dropout_conn1 = tf.nn.dropout(f_conn1, keep_prob)\n",
    "    f_conn2 = fully_conn(dropout_conn1, 512)\n",
    "    dropout_conn2 = tf.nn.dropout(f_conn2, keep_prob)\n",
    "    f_conn3 = fully_conn(dropout_conn2, 512)\n",
    "    \n",
    "    \n",
    "    # TODO: Apply an Output Layer\n",
    "    #    Set this to the number of classes\n",
    "    # Function Definition from Above:\n",
    "    #   output(x_tensor, num_outputs)\n",
    "    \n",
    "    output_data = output(f_conn3, 10)\n",
    "    \n",
    "    \n",
    "    # TODO: return output\n",
    "    return output_data\n",
    "\n",
    "\n",
    "\"\"\"\n",
    "DON'T MODIFY ANYTHING IN THIS CELL THAT IS BELOW THIS LINE\n",
    "\"\"\"\n",
    "\n",
    "##############################\n",
    "## Build the Neural Network ##\n",
    "##############################\n",
    "\n",
    "# Remove previous weights, bias, inputs, etc..\n",
    "tf.reset_default_graph()\n",
    "\n",
    "# Inputs\n",
    "x = neural_net_image_input((32, 32, 3))\n",
    "y = neural_net_label_input(10)\n",
    "keep_prob = neural_net_keep_prob_input()\n",
    "\n",
    "# Model\n",
    "logits = conv_net(x, keep_prob)\n",
    "\n",
    "# Name logits Tensor, so that is can be loaded from disk after training\n",
    "logits = tf.identity(logits, name='logits')\n",
    "\n",
    "# Loss and Optimizer\n",
    "cost = tf.reduce_mean(tf.nn.softmax_cross_entropy_with_logits(logits=logits, labels=y))\n",
    "optimizer = tf.train.AdamOptimizer().minimize(cost)\n",
    "\n",
    "# Accuracy\n",
    "correct_pred = tf.equal(tf.argmax(logits, 1), tf.argmax(y, 1))\n",
    "accuracy = tf.reduce_mean(tf.cast(correct_pred, tf.float32), name='accuracy')\n",
    "\n",
    "tests.test_conv_net(conv_net)"
   ]
  },
  {
   "cell_type": "markdown",
   "metadata": {},
   "source": [
    "## Train the Neural Network\n",
    "### Single Optimization\n",
    "Implement the function `train_neural_network` to do a single optimization.  The optimization should use `optimizer` to optimize in `session` with a `feed_dict` of the following:\n",
    "* `x` for image input\n",
    "* `y` for labels\n",
    "* `keep_prob` for keep probability for dropout\n",
    "\n",
    "This function will be called for each batch, so `tf.global_variables_initializer()` has already been called.\n",
    "\n",
    "Note: Nothing needs to be returned. This function is only optimizing the neural network."
   ]
  },
  {
   "cell_type": "code",
   "execution_count": 30,
   "metadata": {
    "collapsed": false
   },
   "outputs": [
    {
     "name": "stdout",
     "output_type": "stream",
     "text": [
      "Tests Passed\n"
     ]
    }
   ],
   "source": [
    "def train_neural_network(session, optimizer, keep_probability, feature_batch, label_batch):\n",
    "    \"\"\"\n",
    "    Optimize the session on a batch of images and labels\n",
    "    : session: Current TensorFlow session\n",
    "    : optimizer: TensorFlow optimizer function\n",
    "    : keep_probability: keep probability\n",
    "    : feature_batch: Batch of Numpy image data\n",
    "    : label_batch: Batch of Numpy label data\n",
    "    \"\"\"\n",
    "    # TODO: Implement Function\n",
    "    session.run(optimizer, feed_dict = {x: feature_batch, y: label_batch, keep_prob: keep_probability})\n",
    "    pass\n",
    "\n",
    "\n",
    "\"\"\"\n",
    "DON'T MODIFY ANYTHING IN THIS CELL THAT IS BELOW THIS LINE\n",
    "\"\"\"\n",
    "tests.test_train_nn(train_neural_network)"
   ]
  },
  {
   "cell_type": "markdown",
   "metadata": {},
   "source": [
    "### Show Stats\n",
    "Implement the function `print_stats` to print loss and validation accuracy.  Use the global variables `valid_features` and `valid_labels` to calculate validation accuracy.  Use a keep probability of `1.0` to calculate the loss and validation accuracy."
   ]
  },
  {
   "cell_type": "code",
   "execution_count": 31,
   "metadata": {
    "collapsed": false
   },
   "outputs": [],
   "source": [
    "def print_stats(session, feature_batch, label_batch, cost, accuracy):\n",
    "    \"\"\"\n",
    "    Print information about loss and validation accuracy\n",
    "    : session: Current TensorFlow session\n",
    "    : feature_batch: Batch of Numpy image data\n",
    "    : label_batch: Batch of Numpy label data\n",
    "    : cost: TensorFlow cost function\n",
    "    : accuracy: TensorFlow accuracy function\n",
    "    \"\"\"\n",
    "    # TODO: Implement Function\n",
    "    validation_loss  = session.run(cost, feed_dict={x: feature_batch, y: label_batch, keep_prob: 1.0})\n",
    "    validation_accuracy = session.run(accuracy, feed_dict={x: valid_features, y: valid_labels, keep_prob: 1.0})\n",
    "    print('Loss: {}, Validation Accuracy: {}'.format(validation_loss, validation_accuracy))\n",
    "    pass"
   ]
  },
  {
   "cell_type": "markdown",
   "metadata": {},
   "source": [
    "### Hyperparameters\n",
    "Tune the following parameters:\n",
    "* Set `epochs` to the number of iterations until the network stops learning or start overfitting\n",
    "* Set `batch_size` to the highest number that your machine has memory for.  Most people set them to common sizes of memory:\n",
    " * 64\n",
    " * 128\n",
    " * 256\n",
    " * ...\n",
    "* Set `keep_probability` to the probability of keeping a node using dropout"
   ]
  },
  {
   "cell_type": "code",
   "execution_count": 32,
   "metadata": {
    "collapsed": true
   },
   "outputs": [],
   "source": [
    "# TODO: Tune Parameters\n",
    "epochs = 30\n",
    "batch_size = 512\n",
    "keep_probability = 0.5"
   ]
  },
  {
   "cell_type": "markdown",
   "metadata": {},
   "source": [
    "### Train on a Single CIFAR-10 Batch\n",
    "Instead of training the neural network on all the CIFAR-10 batches of data, let's use a single batch. This should save time while you iterate on the model to get a better accuracy.  Once the final validation accuracy is 50% or greater, run the model on all the data in the next section."
   ]
  },
  {
   "cell_type": "code",
   "execution_count": 17,
   "metadata": {
    "collapsed": false
   },
   "outputs": [
    {
     "name": "stdout",
     "output_type": "stream",
     "text": [
      "Checking the Training on a Single Batch...\n",
      "Epoch  1, CIFAR-10 Batch 1:  Loss: 2.1727757453918457, Validation Accuracy: 0.1687999963760376\n",
      "Epoch  2, CIFAR-10 Batch 1:  Loss: 2.16367244720459, Validation Accuracy: 0.24580000340938568\n",
      "Epoch  3, CIFAR-10 Batch 1:  Loss: 2.119819164276123, Validation Accuracy: 0.28220000863075256\n",
      "Epoch  4, CIFAR-10 Batch 1:  Loss: 2.091646909713745, Validation Accuracy: 0.2757999897003174\n",
      "Epoch  5, CIFAR-10 Batch 1:  Loss: 2.043732166290283, Validation Accuracy: 0.29499998688697815\n",
      "Epoch  6, CIFAR-10 Batch 1:  Loss: 1.981278419494629, Validation Accuracy: 0.32580000162124634\n",
      "Epoch  7, CIFAR-10 Batch 1:  Loss: 1.932450294494629, Validation Accuracy: 0.3440000116825104\n",
      "Epoch  8, CIFAR-10 Batch 1:  Loss: 1.8090410232543945, Validation Accuracy: 0.39320001006126404\n",
      "Epoch  9, CIFAR-10 Batch 1:  Loss: 1.6841169595718384, Validation Accuracy: 0.4018000066280365\n",
      "Epoch 10, CIFAR-10 Batch 1:  Loss: 1.5713160037994385, Validation Accuracy: 0.40939998626708984\n",
      "Epoch 11, CIFAR-10 Batch 1:  Loss: 1.4522911310195923, Validation Accuracy: 0.4341999888420105\n",
      "Epoch 12, CIFAR-10 Batch 1:  Loss: 1.3746578693389893, Validation Accuracy: 0.4327999949455261\n",
      "Epoch 13, CIFAR-10 Batch 1:  Loss: 1.2703502178192139, Validation Accuracy: 0.4456000030040741\n",
      "Epoch 14, CIFAR-10 Batch 1:  Loss: 1.1490981578826904, Validation Accuracy: 0.4546000063419342\n",
      "Epoch 15, CIFAR-10 Batch 1:  Loss: 1.0590091943740845, Validation Accuracy: 0.4747999906539917\n",
      "Epoch 16, CIFAR-10 Batch 1:  Loss: 0.9896771311759949, Validation Accuracy: 0.4830000102519989\n",
      "Epoch 17, CIFAR-10 Batch 1:  Loss: 0.8872345685958862, Validation Accuracy: 0.4844000041484833\n",
      "Epoch 18, CIFAR-10 Batch 1:  Loss: 0.7774350047111511, Validation Accuracy: 0.5\n",
      "Epoch 19, CIFAR-10 Batch 1:  Loss: 0.7158439755439758, Validation Accuracy: 0.5037999749183655\n",
      "Epoch 20, CIFAR-10 Batch 1:  Loss: 0.657406210899353, Validation Accuracy: 0.5012000203132629\n",
      "Epoch 21, CIFAR-10 Batch 1:  Loss: 0.5893090963363647, Validation Accuracy: 0.5088000297546387\n",
      "Epoch 22, CIFAR-10 Batch 1:  Loss: 0.4938746392726898, Validation Accuracy: 0.5034000277519226\n",
      "Epoch 23, CIFAR-10 Batch 1:  Loss: 0.4552733302116394, Validation Accuracy: 0.5216000080108643\n",
      "Epoch 24, CIFAR-10 Batch 1:  Loss: 0.3717799484729767, Validation Accuracy: 0.527400016784668\n",
      "Epoch 25, CIFAR-10 Batch 1:  Loss: 0.35299479961395264, Validation Accuracy: 0.5004000067710876\n",
      "Epoch 26, CIFAR-10 Batch 1:  Loss: 0.37245306372642517, Validation Accuracy: 0.5126000046730042\n",
      "Epoch 27, CIFAR-10 Batch 1:  Loss: 0.28264790773391724, Validation Accuracy: 0.5123999714851379\n",
      "Epoch 28, CIFAR-10 Batch 1:  Loss: 0.22507968544960022, Validation Accuracy: 0.5234000086784363\n",
      "Epoch 29, CIFAR-10 Batch 1:  Loss: 0.16096393764019012, Validation Accuracy: 0.5117999911308289\n",
      "Epoch 30, CIFAR-10 Batch 1:  Loss: 0.14653408527374268, Validation Accuracy: 0.5105999708175659\n"
     ]
    }
   ],
   "source": [
    "\"\"\"\n",
    "DON'T MODIFY ANYTHING IN THIS CELL\n",
    "\"\"\"\n",
    "print('Checking the Training on a Single Batch...')\n",
    "with tf.Session() as sess:\n",
    "    # Initializing the variables\n",
    "    sess.run(tf.global_variables_initializer())\n",
    "    \n",
    "    # Training cycle\n",
    "    for epoch in range(epochs):\n",
    "        batch_i = 1\n",
    "        for batch_features, batch_labels in helper.load_preprocess_training_batch(batch_i, batch_size):\n",
    "            train_neural_network(sess, optimizer, keep_probability, batch_features, batch_labels)\n",
    "        print('Epoch {:>2}, CIFAR-10 Batch {}:  '.format(epoch + 1, batch_i), end='')\n",
    "        print_stats(sess, batch_features, batch_labels, cost, accuracy)"
   ]
  },
  {
   "cell_type": "markdown",
   "metadata": {},
   "source": [
    "### Fully Train the Model\n",
    "Now that you got a good accuracy with a single CIFAR-10 batch, try it with all five batches."
   ]
  },
  {
   "cell_type": "code",
   "execution_count": 33,
   "metadata": {
    "collapsed": false
   },
   "outputs": [
    {
     "name": "stdout",
     "output_type": "stream",
     "text": [
      "Training...\n",
      "Epoch  1, CIFAR-10 Batch 1:  Loss: 2.2444570064544678, Validation Accuracy: 0.19920000433921814\n",
      "Epoch  1, CIFAR-10 Batch 2:  Loss: 2.107332468032837, Validation Accuracy: 0.23340000212192535\n",
      "Epoch  1, CIFAR-10 Batch 3:  Loss: 1.9680988788604736, Validation Accuracy: 0.23579999804496765\n",
      "Epoch  1, CIFAR-10 Batch 4:  Loss: 1.931523084640503, Validation Accuracy: 0.27000001072883606\n",
      "Epoch  1, CIFAR-10 Batch 5:  Loss: 1.9185465574264526, Validation Accuracy: 0.2840000092983246\n",
      "Epoch  2, CIFAR-10 Batch 1:  Loss: 1.963060975074768, Validation Accuracy: 0.29280000925064087\n",
      "Epoch  2, CIFAR-10 Batch 2:  Loss: 1.825582504272461, Validation Accuracy: 0.31220000982284546\n",
      "Epoch  2, CIFAR-10 Batch 3:  Loss: 1.7405246496200562, Validation Accuracy: 0.321399986743927\n",
      "Epoch  2, CIFAR-10 Batch 4:  Loss: 1.6177513599395752, Validation Accuracy: 0.35839998722076416\n",
      "Epoch  2, CIFAR-10 Batch 5:  Loss: 1.6600077152252197, Validation Accuracy: 0.38339999318122864\n",
      "Epoch  3, CIFAR-10 Batch 1:  Loss: 1.7106068134307861, Validation Accuracy: 0.3928000032901764\n",
      "Epoch  3, CIFAR-10 Batch 2:  Loss: 1.5301207304000854, Validation Accuracy: 0.4259999990463257\n",
      "Epoch  3, CIFAR-10 Batch 3:  Loss: 1.3716548681259155, Validation Accuracy: 0.42320001125335693\n",
      "Epoch  3, CIFAR-10 Batch 4:  Loss: 1.369100570678711, Validation Accuracy: 0.44699999690055847\n",
      "Epoch  3, CIFAR-10 Batch 5:  Loss: 1.5352447032928467, Validation Accuracy: 0.4246000051498413\n",
      "Epoch  4, CIFAR-10 Batch 1:  Loss: 1.5399657487869263, Validation Accuracy: 0.45820000767707825\n",
      "Epoch  4, CIFAR-10 Batch 2:  Loss: 1.416961669921875, Validation Accuracy: 0.46860000491142273\n",
      "Epoch  4, CIFAR-10 Batch 3:  Loss: 1.2498630285263062, Validation Accuracy: 0.4636000096797943\n",
      "Epoch  4, CIFAR-10 Batch 4:  Loss: 1.2532031536102295, Validation Accuracy: 0.4805999994277954\n",
      "Epoch  4, CIFAR-10 Batch 5:  Loss: 1.3804138898849487, Validation Accuracy: 0.47999998927116394\n",
      "Epoch  5, CIFAR-10 Batch 1:  Loss: 1.4595751762390137, Validation Accuracy: 0.47940000891685486\n",
      "Epoch  5, CIFAR-10 Batch 2:  Loss: 1.371627926826477, Validation Accuracy: 0.4878000020980835\n",
      "Epoch  5, CIFAR-10 Batch 3:  Loss: 1.1591342687606812, Validation Accuracy: 0.4867999851703644\n",
      "Epoch  5, CIFAR-10 Batch 4:  Loss: 1.165693998336792, Validation Accuracy: 0.5138000249862671\n",
      "Epoch  5, CIFAR-10 Batch 5:  Loss: 1.2909501791000366, Validation Accuracy: 0.5117999911308289\n",
      "Epoch  6, CIFAR-10 Batch 1:  Loss: 1.3768154382705688, Validation Accuracy: 0.5153999924659729\n",
      "Epoch  6, CIFAR-10 Batch 2:  Loss: 1.285339117050171, Validation Accuracy: 0.5180000066757202\n",
      "Epoch  6, CIFAR-10 Batch 3:  Loss: 1.0472294092178345, Validation Accuracy: 0.5234000086784363\n",
      "Epoch  6, CIFAR-10 Batch 4:  Loss: 1.0827120542526245, Validation Accuracy: 0.5333999991416931\n",
      "Epoch  6, CIFAR-10 Batch 5:  Loss: 1.2131924629211426, Validation Accuracy: 0.5306000113487244\n",
      "Epoch  7, CIFAR-10 Batch 1:  Loss: 1.3046783208847046, Validation Accuracy: 0.5212000012397766\n",
      "Epoch  7, CIFAR-10 Batch 2:  Loss: 1.2297052145004272, Validation Accuracy: 0.5314000248908997\n",
      "Epoch  7, CIFAR-10 Batch 3:  Loss: 0.9957382678985596, Validation Accuracy: 0.5410000085830688\n",
      "Epoch  7, CIFAR-10 Batch 4:  Loss: 1.0257549285888672, Validation Accuracy: 0.5493999719619751\n",
      "Epoch  7, CIFAR-10 Batch 5:  Loss: 1.116926908493042, Validation Accuracy: 0.5582000017166138\n",
      "Epoch  8, CIFAR-10 Batch 1:  Loss: 1.2168078422546387, Validation Accuracy: 0.5582000017166138\n",
      "Epoch  8, CIFAR-10 Batch 2:  Loss: 1.168803334236145, Validation Accuracy: 0.5591999888420105\n",
      "Epoch  8, CIFAR-10 Batch 3:  Loss: 0.9351035356521606, Validation Accuracy: 0.5651999711990356\n",
      "Epoch  8, CIFAR-10 Batch 4:  Loss: 0.9591858386993408, Validation Accuracy: 0.5672000050544739\n",
      "Epoch  8, CIFAR-10 Batch 5:  Loss: 1.0730149745941162, Validation Accuracy: 0.5655999779701233\n",
      "Epoch  9, CIFAR-10 Batch 1:  Loss: 1.1297426223754883, Validation Accuracy: 0.5612000226974487\n",
      "Epoch  9, CIFAR-10 Batch 2:  Loss: 1.0847071409225464, Validation Accuracy: 0.5807999968528748\n",
      "Epoch  9, CIFAR-10 Batch 3:  Loss: 0.9169999361038208, Validation Accuracy: 0.5709999799728394\n",
      "Epoch  9, CIFAR-10 Batch 4:  Loss: 0.8749589920043945, Validation Accuracy: 0.58160001039505\n",
      "Epoch  9, CIFAR-10 Batch 5:  Loss: 1.0043320655822754, Validation Accuracy: 0.5845999717712402\n",
      "Epoch 10, CIFAR-10 Batch 1:  Loss: 1.101192831993103, Validation Accuracy: 0.5649999976158142\n",
      "Epoch 10, CIFAR-10 Batch 2:  Loss: 1.0105268955230713, Validation Accuracy: 0.6003999710083008\n",
      "Epoch 10, CIFAR-10 Batch 3:  Loss: 0.8491677045822144, Validation Accuracy: 0.5807999968528748\n",
      "Epoch 10, CIFAR-10 Batch 4:  Loss: 0.8407400846481323, Validation Accuracy: 0.5997999906539917\n",
      "Epoch 10, CIFAR-10 Batch 5:  Loss: 0.9329321384429932, Validation Accuracy: 0.5910000205039978\n",
      "Epoch 11, CIFAR-10 Batch 1:  Loss: 1.0043058395385742, Validation Accuracy: 0.5950000286102295\n",
      "Epoch 11, CIFAR-10 Batch 2:  Loss: 0.9634883999824524, Validation Accuracy: 0.6110000014305115\n",
      "Epoch 11, CIFAR-10 Batch 3:  Loss: 0.826115608215332, Validation Accuracy: 0.59579998254776\n",
      "Epoch 11, CIFAR-10 Batch 4:  Loss: 0.8102052211761475, Validation Accuracy: 0.6050000190734863\n",
      "Epoch 11, CIFAR-10 Batch 5:  Loss: 0.874167799949646, Validation Accuracy: 0.6105999946594238\n",
      "Epoch 12, CIFAR-10 Batch 1:  Loss: 0.8943212628364563, Validation Accuracy: 0.6137999892234802\n",
      "Epoch 12, CIFAR-10 Batch 2:  Loss: 0.900728166103363, Validation Accuracy: 0.6168000102043152\n",
      "Epoch 12, CIFAR-10 Batch 3:  Loss: 0.7574814558029175, Validation Accuracy: 0.6114000082015991\n",
      "Epoch 12, CIFAR-10 Batch 4:  Loss: 0.7448693513870239, Validation Accuracy: 0.6209999918937683\n",
      "Epoch 12, CIFAR-10 Batch 5:  Loss: 0.8409410715103149, Validation Accuracy: 0.6119999885559082\n",
      "Epoch 13, CIFAR-10 Batch 1:  Loss: 0.8611371517181396, Validation Accuracy: 0.6122000217437744\n",
      "Epoch 13, CIFAR-10 Batch 2:  Loss: 0.8773931264877319, Validation Accuracy: 0.6309999823570251\n",
      "Epoch 13, CIFAR-10 Batch 3:  Loss: 0.7075756788253784, Validation Accuracy: 0.621399998664856\n",
      "Epoch 13, CIFAR-10 Batch 4:  Loss: 0.6907638311386108, Validation Accuracy: 0.635200023651123\n",
      "Epoch 13, CIFAR-10 Batch 5:  Loss: 0.7717901468276978, Validation Accuracy: 0.6190000176429749\n",
      "Epoch 14, CIFAR-10 Batch 1:  Loss: 0.7553586959838867, Validation Accuracy: 0.620199978351593\n",
      "Epoch 14, CIFAR-10 Batch 2:  Loss: 0.8013461828231812, Validation Accuracy: 0.635200023651123\n",
      "Epoch 14, CIFAR-10 Batch 3:  Loss: 0.6597216129302979, Validation Accuracy: 0.6237999796867371\n",
      "Epoch 14, CIFAR-10 Batch 4:  Loss: 0.6477653980255127, Validation Accuracy: 0.6320000290870667\n",
      "Epoch 14, CIFAR-10 Batch 5:  Loss: 0.7042434215545654, Validation Accuracy: 0.6424000263214111\n",
      "Epoch 15, CIFAR-10 Batch 1:  Loss: 0.707506000995636, Validation Accuracy: 0.6362000107765198\n",
      "Epoch 15, CIFAR-10 Batch 2:  Loss: 0.7517647743225098, Validation Accuracy: 0.6431999802589417\n",
      "Epoch 15, CIFAR-10 Batch 3:  Loss: 0.6097850203514099, Validation Accuracy: 0.6295999884605408\n",
      "Epoch 15, CIFAR-10 Batch 4:  Loss: 0.5992281436920166, Validation Accuracy: 0.6367999911308289\n",
      "Epoch 15, CIFAR-10 Batch 5:  Loss: 0.6351578235626221, Validation Accuracy: 0.6503999829292297\n",
      "Epoch 16, CIFAR-10 Batch 1:  Loss: 0.6866442561149597, Validation Accuracy: 0.628000020980835\n",
      "Epoch 16, CIFAR-10 Batch 2:  Loss: 0.6906836032867432, Validation Accuracy: 0.6403999924659729\n",
      "Epoch 16, CIFAR-10 Batch 3:  Loss: 0.5601643919944763, Validation Accuracy: 0.6402000188827515\n",
      "Epoch 16, CIFAR-10 Batch 4:  Loss: 0.532891035079956, Validation Accuracy: 0.6606000065803528\n",
      "Epoch 16, CIFAR-10 Batch 5:  Loss: 0.5895480513572693, Validation Accuracy: 0.6539999842643738\n",
      "Epoch 17, CIFAR-10 Batch 1:  Loss: 0.5997655987739563, Validation Accuracy: 0.6442000269889832\n",
      "Epoch 17, CIFAR-10 Batch 2:  Loss: 0.7149919271469116, Validation Accuracy: 0.6403999924659729\n",
      "Epoch 17, CIFAR-10 Batch 3:  Loss: 0.5064300298690796, Validation Accuracy: 0.6534000039100647\n",
      "Epoch 17, CIFAR-10 Batch 4:  Loss: 0.5076548457145691, Validation Accuracy: 0.6588000059127808\n",
      "Epoch 17, CIFAR-10 Batch 5:  Loss: 0.5846943855285645, Validation Accuracy: 0.656000018119812\n",
      "Epoch 18, CIFAR-10 Batch 1:  Loss: 0.5513854026794434, Validation Accuracy: 0.6438000202178955\n",
      "Epoch 18, CIFAR-10 Batch 2:  Loss: 0.7085000276565552, Validation Accuracy: 0.6326000094413757\n",
      "Epoch 18, CIFAR-10 Batch 3:  Loss: 0.5065961480140686, Validation Accuracy: 0.6510000228881836\n",
      "Epoch 18, CIFAR-10 Batch 4:  Loss: 0.46743351221084595, Validation Accuracy: 0.6665999889373779\n",
      "Epoch 18, CIFAR-10 Batch 5:  Loss: 0.5194483995437622, Validation Accuracy: 0.6552000045776367\n",
      "Epoch 19, CIFAR-10 Batch 1:  Loss: 0.5542170405387878, Validation Accuracy: 0.6295999884605408\n",
      "Epoch 19, CIFAR-10 Batch 2:  Loss: 0.6335220336914062, Validation Accuracy: 0.628600001335144\n",
      "Epoch 19, CIFAR-10 Batch 3:  Loss: 0.4754326343536377, Validation Accuracy: 0.6567999720573425\n",
      "Epoch 19, CIFAR-10 Batch 4:  Loss: 0.44440433382987976, Validation Accuracy: 0.6582000255584717\n",
      "Epoch 19, CIFAR-10 Batch 5:  Loss: 0.45979833602905273, Validation Accuracy: 0.6632000207901001\n",
      "Epoch 20, CIFAR-10 Batch 1:  Loss: 0.48181357979774475, Validation Accuracy: 0.6349999904632568\n",
      "Epoch 20, CIFAR-10 Batch 2:  Loss: 0.5699816942214966, Validation Accuracy: 0.6571999788284302\n",
      "Epoch 20, CIFAR-10 Batch 3:  Loss: 0.4405023753643036, Validation Accuracy: 0.6728000044822693\n",
      "Epoch 20, CIFAR-10 Batch 4:  Loss: 0.4054758846759796, Validation Accuracy: 0.6625999808311462\n",
      "Epoch 20, CIFAR-10 Batch 5:  Loss: 0.43000009655952454, Validation Accuracy: 0.6646000146865845\n",
      "Epoch 21, CIFAR-10 Batch 1:  Loss: 0.4154776632785797, Validation Accuracy: 0.6561999917030334\n",
      "Epoch 21, CIFAR-10 Batch 2:  Loss: 0.5256534218788147, Validation Accuracy: 0.659600019454956\n",
      "Epoch 21, CIFAR-10 Batch 3:  Loss: 0.3829805552959442, Validation Accuracy: 0.6722000241279602\n",
      "Epoch 21, CIFAR-10 Batch 4:  Loss: 0.3689824640750885, Validation Accuracy: 0.6682000160217285\n",
      "Epoch 21, CIFAR-10 Batch 5:  Loss: 0.3911367356777191, Validation Accuracy: 0.6696000099182129\n",
      "Epoch 22, CIFAR-10 Batch 1:  Loss: 0.4225733280181885, Validation Accuracy: 0.6589999794960022\n",
      "Epoch 22, CIFAR-10 Batch 2:  Loss: 0.4777801036834717, Validation Accuracy: 0.6647999882698059\n",
      "Epoch 22, CIFAR-10 Batch 3:  Loss: 0.35007622838020325, Validation Accuracy: 0.6723999977111816\n",
      "Epoch 22, CIFAR-10 Batch 4:  Loss: 0.3410817086696625, Validation Accuracy: 0.6682000160217285\n",
      "Epoch 22, CIFAR-10 Batch 5:  Loss: 0.3547380566596985, Validation Accuracy: 0.6672000288963318\n",
      "Epoch 23, CIFAR-10 Batch 1:  Loss: 0.4371785819530487, Validation Accuracy: 0.657800018787384\n",
      "Epoch 23, CIFAR-10 Batch 2:  Loss: 0.4345383942127228, Validation Accuracy: 0.6732000112533569\n",
      "Epoch 23, CIFAR-10 Batch 3:  Loss: 0.35450658202171326, Validation Accuracy: 0.6650000214576721\n",
      "Epoch 23, CIFAR-10 Batch 4:  Loss: 0.3360599875450134, Validation Accuracy: 0.6517999768257141\n",
      "Epoch 23, CIFAR-10 Batch 5:  Loss: 0.3422813415527344, Validation Accuracy: 0.6678000092506409\n",
      "Epoch 24, CIFAR-10 Batch 1:  Loss: 0.366800993680954, Validation Accuracy: 0.6711999773979187\n",
      "Epoch 24, CIFAR-10 Batch 2:  Loss: 0.42150983214378357, Validation Accuracy: 0.6674000024795532\n",
      "Epoch 24, CIFAR-10 Batch 3:  Loss: 0.30510035157203674, Validation Accuracy: 0.6796000003814697\n",
      "Epoch 24, CIFAR-10 Batch 4:  Loss: 0.3146357536315918, Validation Accuracy: 0.6620000004768372\n",
      "Epoch 24, CIFAR-10 Batch 5:  Loss: 0.3328132629394531, Validation Accuracy: 0.6588000059127808\n",
      "Epoch 25, CIFAR-10 Batch 1:  Loss: 0.31161823868751526, Validation Accuracy: 0.6782000064849854\n",
      "Epoch 25, CIFAR-10 Batch 2:  Loss: 0.3508450388908386, Validation Accuracy: 0.6812000274658203\n",
      "Epoch 25, CIFAR-10 Batch 3:  Loss: 0.2793459892272949, Validation Accuracy: 0.6840000152587891\n",
      "Epoch 25, CIFAR-10 Batch 4:  Loss: 0.2739047408103943, Validation Accuracy: 0.6547999978065491\n",
      "Epoch 25, CIFAR-10 Batch 5:  Loss: 0.3365139067173004, Validation Accuracy: 0.6606000065803528\n",
      "Epoch 26, CIFAR-10 Batch 1:  Loss: 0.297055721282959, Validation Accuracy: 0.6791999936103821\n",
      "Epoch 26, CIFAR-10 Batch 2:  Loss: 0.2900843322277069, Validation Accuracy: 0.6815999746322632\n",
      "Epoch 26, CIFAR-10 Batch 3:  Loss: 0.2691950500011444, Validation Accuracy: 0.6728000044822693\n",
      "Epoch 26, CIFAR-10 Batch 4:  Loss: 0.26485109329223633, Validation Accuracy: 0.6651999950408936\n",
      "Epoch 26, CIFAR-10 Batch 5:  Loss: 0.296437531709671, Validation Accuracy: 0.6705999970436096\n",
      "Epoch 27, CIFAR-10 Batch 1:  Loss: 0.25591421127319336, Validation Accuracy: 0.6690000295639038\n",
      "Epoch 27, CIFAR-10 Batch 2:  Loss: 0.28034499287605286, Validation Accuracy: 0.6782000064849854\n",
      "Epoch 27, CIFAR-10 Batch 3:  Loss: 0.21336416900157928, Validation Accuracy: 0.6809999942779541\n",
      "Epoch 27, CIFAR-10 Batch 4:  Loss: 0.2685893177986145, Validation Accuracy: 0.6474000215530396\n",
      "Epoch 27, CIFAR-10 Batch 5:  Loss: 0.2713718116283417, Validation Accuracy: 0.6657999753952026\n",
      "Epoch 28, CIFAR-10 Batch 1:  Loss: 0.25716352462768555, Validation Accuracy: 0.6761999726295471\n",
      "Epoch 28, CIFAR-10 Batch 2:  Loss: 0.27132710814476013, Validation Accuracy: 0.6791999936103821\n",
      "Epoch 28, CIFAR-10 Batch 3:  Loss: 0.20809070765972137, Validation Accuracy: 0.6833999752998352\n",
      "Epoch 28, CIFAR-10 Batch 4:  Loss: 0.2269475758075714, Validation Accuracy: 0.6687999963760376\n",
      "Epoch 28, CIFAR-10 Batch 5:  Loss: 0.24042542278766632, Validation Accuracy: 0.6800000071525574\n",
      "Epoch 29, CIFAR-10 Batch 1:  Loss: 0.2794099748134613, Validation Accuracy: 0.6592000126838684\n",
      "Epoch 29, CIFAR-10 Batch 2:  Loss: 0.26350662112236023, Validation Accuracy: 0.6794000267982483\n",
      "Epoch 29, CIFAR-10 Batch 3:  Loss: 0.18760457634925842, Validation Accuracy: 0.675599992275238\n",
      "Epoch 29, CIFAR-10 Batch 4:  Loss: 0.20346330106258392, Validation Accuracy: 0.670199990272522\n",
      "Epoch 29, CIFAR-10 Batch 5:  Loss: 0.2206064760684967, Validation Accuracy: 0.6826000213623047\n",
      "Epoch 30, CIFAR-10 Batch 1:  Loss: 0.23276180028915405, Validation Accuracy: 0.6597999930381775\n",
      "Epoch 30, CIFAR-10 Batch 2:  Loss: 0.18881097435951233, Validation Accuracy: 0.6848000288009644\n",
      "Epoch 30, CIFAR-10 Batch 3:  Loss: 0.17709340155124664, Validation Accuracy: 0.6858000159263611\n",
      "Epoch 30, CIFAR-10 Batch 4:  Loss: 0.18172404170036316, Validation Accuracy: 0.682200014591217\n",
      "Epoch 30, CIFAR-10 Batch 5:  Loss: 0.19075961410999298, Validation Accuracy: 0.6931999921798706\n"
     ]
    }
   ],
   "source": [
    "\"\"\"\n",
    "DON'T MODIFY ANYTHING IN THIS CELL\n",
    "\"\"\"\n",
    "save_model_path = './image_classification'\n",
    "\n",
    "print('Training...')\n",
    "with tf.Session() as sess:\n",
    "    # Initializing the variables\n",
    "    sess.run(tf.global_variables_initializer())\n",
    "    \n",
    "    # Training cycle\n",
    "    for epoch in range(epochs):\n",
    "        # Loop over all batches\n",
    "        n_batches = 5\n",
    "        for batch_i in range(1, n_batches + 1):\n",
    "            for batch_features, batch_labels in helper.load_preprocess_training_batch(batch_i, batch_size):\n",
    "                train_neural_network(sess, optimizer, keep_probability, batch_features, batch_labels)\n",
    "            print('Epoch {:>2}, CIFAR-10 Batch {}:  '.format(epoch + 1, batch_i), end='')\n",
    "            print_stats(sess, batch_features, batch_labels, cost, accuracy)\n",
    "            \n",
    "    # Save Model\n",
    "    saver = tf.train.Saver()\n",
    "    save_path = saver.save(sess, save_model_path)"
   ]
  },
  {
   "cell_type": "markdown",
   "metadata": {},
   "source": [
    "# Checkpoint\n",
    "The model has been saved to disk.\n",
    "## Test Model\n",
    "Test your model against the test dataset.  This will be your final accuracy. You should have an accuracy greater than 50%. If you don't, keep tweaking the model architecture and parameters."
   ]
  },
  {
   "cell_type": "code",
   "execution_count": 34,
   "metadata": {
    "collapsed": false
   },
   "outputs": [
    {
     "name": "stdout",
     "output_type": "stream",
     "text": [
      "INFO:tensorflow:Restoring parameters from ./image_classification\n",
      "Testing Accuracy: 0.6857709109783172\n",
      "\n"
     ]
    },
    {
     "data": {
      "image/png": "[encoded data removed]",
      "text/plain": [
       "<matplotlib.figure.Figure at 0x233fb954860>"
      ]
     },
     "metadata": {
      "image/png": {
       "height": 319,
       "width": 355
      }
     },
     "output_type": "display_data"
    }
   ],
   "source": [
    "\"\"\"\n",
    "DON'T MODIFY ANYTHING IN THIS CELL\n",
    "\"\"\"\n",
    "%matplotlib inline\n",
    "%config InlineBackend.figure_format = 'retina'\n",
    "\n",
    "import tensorflow as tf\n",
    "import pickle\n",
    "import helper\n",
    "import random\n",
    "\n",
    "# Set batch size if not already set\n",
    "try:\n",
    "    if batch_size:\n",
    "        pass\n",
    "except NameError:\n",
    "    batch_size = 64\n",
    "\n",
    "save_model_path = './image_classification'\n",
    "n_samples = 4\n",
    "top_n_predictions = 3\n",
    "\n",
    "def test_model():\n",
    "    \"\"\"\n",
    "    Test the saved model against the test dataset\n",
    "    \"\"\"\n",
    "\n",
    "    test_features, test_labels = pickle.load(open('preprocess_training.p', mode='rb'))\n",
    "    loaded_graph = tf.Graph()\n",
    "\n",
    "    with tf.Session(graph=loaded_graph) as sess:\n",
    "        # Load model\n",
    "        loader = tf.train.import_meta_graph(save_model_path + '.meta')\n",
    "        loader.restore(sess, save_model_path)\n",
    "\n",
    "        # Get Tensors from loaded model\n",
    "        loaded_x = loaded_graph.get_tensor_by_name('x:0')\n",
    "        loaded_y = loaded_graph.get_tensor_by_name('y:0')\n",
    "        loaded_keep_prob = loaded_graph.get_tensor_by_name('keep_prob:0')\n",
    "        loaded_logits = loaded_graph.get_tensor_by_name('logits:0')\n",
    "        loaded_acc = loaded_graph.get_tensor_by_name('accuracy:0')\n",
    "        \n",
    "        # Get accuracy in batches for memory limitations\n",
    "        test_batch_acc_total = 0\n",
    "        test_batch_count = 0\n",
    "        \n",
    "        for train_feature_batch, train_label_batch in helper.batch_features_labels(test_features, test_labels, batch_size):\n",
    "            test_batch_acc_total += sess.run(\n",
    "                loaded_acc,\n",
    "                feed_dict={loaded_x: train_feature_batch, loaded_y: train_label_batch, loaded_keep_prob: 1.0})\n",
    "            test_batch_count += 1\n",
    "\n",
    "        print('Testing Accuracy: {}\\n'.format(test_batch_acc_total/test_batch_count))\n",
    "\n",
    "        # Print Random Samples\n",
    "        random_test_features, random_test_labels = tuple(zip(*random.sample(list(zip(test_features, test_labels)), n_samples)))\n",
    "        random_test_predictions = sess.run(\n",
    "            tf.nn.top_k(tf.nn.softmax(loaded_logits), top_n_predictions),\n",
    "            feed_dict={loaded_x: random_test_features, loaded_y: random_test_labels, loaded_keep_prob: 1.0})\n",
    "        helper.display_image_predictions(random_test_features, random_test_labels, random_test_predictions)\n",
    "\n",
    "\n",
    "test_model()"
   ]
  },
  {
   "cell_type": "markdown",
   "metadata": {},
   "source": [
    "## Why 50-80% Accuracy?\n",
    "You might be wondering why you can't get an accuracy any higher. First things first, 50% isn't bad for a simple CNN.  Pure guessing would get you 10% accuracy. However, you might notice people are getting scores [well above 80%](http://rodrigob.github.io/are_we_there_yet/build/classification_datasets_results.html#43494641522d3130).  That's because we haven't taught you all there is to know about neural networks. We still need to cover a few more techniques.\n",
    "## Submitting This Project\n",
    "When submitting this project, make sure to run all the cells before saving the notebook.  Save the notebook file as \"dlnd_image_classification.ipynb\" and save it as a HTML file under \"File\" -> \"Download as\".  Include the \"helper.py\" and \"problem_unittests.py\" files in your submission."
   ]
  }
 ],
 "metadata": {
  "anaconda-cloud": {},
  "kernelspec": {
   "display_name": "Python [conda env:tflearn]",
   "language": "python",
   "name": "conda-env-tflearn-py"
  },
  "language_info": {
   "codemirror_mode": {
    "name": "ipython",
    "version": 3
   },
   "file_extension": ".py",
   "mimetype": "text/x-python",
   "name": "python",
   "nbconvert_exporter": "python",
   "pygments_lexer": "ipython3",
   "version": "3.5.3"
  }
 },
 "nbformat": 4,
 "nbformat_minor": 0
}
